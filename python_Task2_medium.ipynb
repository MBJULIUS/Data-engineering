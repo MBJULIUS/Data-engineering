{
 "cells": [
  {
   "cell_type": "code",
   "execution_count": 6,
   "id": "32fef9c8-f1c8-4e2e-ac45-3ba193851ab3",
   "metadata": {},
   "outputs": [],
   "source": [
    "retail_inventory = {\n",
    "    \"Electronics\": {\n",
    "        \"Laptop\": [55000, 30, \"Dell\"],\n",
    "        \"Mobile\": [25000, 50, \"Samsung\"],\n",
    "        \"Tablet\": [18000, 20, \"Lenovo\"],\n",
    "        \"Smart Watch\": [7999, 40, \"Noise\"]\n",
    "    },\n",
    "    \"Apparel\": {\n",
    "        \"T-Shirt\": [499, 100, \"H&M\"],\n",
    "        \"Jeans\": [1199, 60, \"Levi's\"],\n",
    "        \"Jacket\": [2499, 25, \"Puma\"]\n",
    "    },\n",
    "    \"Home Appliances\": {\n",
    "        \"Microwave\": [8500, 15, \"LG\"],\n",
    "        \"Vacuum Cleaner\": [7000, 10, \"Philips\"],\n",
    "        \"Refrigerator\": [30000, 8, \"Samsung\"]\n",
    "    }\n",
    "}\n"
   ]
  },
  {
   "cell_type": "code",
   "execution_count": 7,
   "id": "453fc2eb-49e3-476a-88ef-df9f5a92d048",
   "metadata": {},
   "outputs": [
    {
     "data": {
      "text/plain": [
       "{'Electronics': {'Laptop': [55000, 30, 'Dell'],\n",
       "  'Mobile': [25000, 50, 'Samsung'],\n",
       "  'Tablet': [18000, 20, 'Lenovo'],\n",
       "  'Smart Watch': [7999, 40, 'Noise']},\n",
       " 'Apparel': {'T-Shirt': [499, 100, 'H&M'],\n",
       "  'Jeans': [1199, 60, \"Levi's\"],\n",
       "  'Jacket': [2499, 25, 'Puma']},\n",
       " 'Home Appliances': {'Microwave': [8500, 15, 'LG'],\n",
       "  'Vacuum Cleaner': [7000, 10, 'Philips'],\n",
       "  'Refrigerator': [30000, 8, 'Samsung']}}"
      ]
     },
     "execution_count": 7,
     "metadata": {},
     "output_type": "execute_result"
    }
   ],
   "source": [
    "retail_inventory"
   ]
  },
  {
   "cell_type": "code",
   "execution_count": null,
   "id": "f81622cd-eb73-4e76-a5a1-cc10959758a6",
   "metadata": {},
   "outputs": [],
   "source": [
    "##🟢 Easy (Level 1)\n",
    "##How do you get all the keys from a dictionary? (Use .keys())\n",
    "##How do you get all the values from a dictionary? (Use .values())\n",
    "##How do you retrieve the value for a specific key safely? (Use .get(key))\n",
    "##How do you check if a key exists in a dictionary? (Use in)\n",
    "##How do you remove a key and return its value? (Use .pop(key))\n",
    "##How do you copy a dictionary? (Use .copy())\n",
    "##How do you remove all key-value pairs from a dictionary? (Use .clear())\n",
    "##How do you add or update a value for a key? (Use .update({key: value}))\n",
    "##How do you retrieve both keys and values? (Use .items())\n",
    "##How do you create an empty dictionary? (Use {} or dict())"
   ]
  },
  {
   "cell_type": "code",
   "execution_count": 15,
   "id": "ec1b981e-947c-4a27-b4e6-f747f8dc4dbf",
   "metadata": {},
   "outputs": [
    {
     "data": {
      "text/plain": [
       "dict_keys(['Electronics', 'Apparel', 'Home Appliances'])"
      ]
     },
     "execution_count": 15,
     "metadata": {},
     "output_type": "execute_result"
    }
   ],
   "source": [
    "##How do you get all the keys from a dictionary? (Use .keys())\n",
    "retail_inventory.keys()"
   ]
  },
  {
   "cell_type": "code",
   "execution_count": 16,
   "id": "c471f303-8ce9-498a-93a4-4ef9dd22efcd",
   "metadata": {},
   "outputs": [
    {
     "data": {
      "text/plain": [
       "dict_values([{'Laptop': [55000, 30, 'Dell'], 'Mobile': [25000, 50, 'Samsung'], 'Tablet': [18000, 20, 'Lenovo'], 'Smart Watch': [7999, 40, 'Noise']}, {'T-Shirt': [499, 100, 'H&M'], 'Jeans': [1199, 60, \"Levi's\"], 'Jacket': [2499, 25, 'Puma']}, {'Microwave': [8500, 15, 'LG'], 'Vacuum Cleaner': [7000, 10, 'Philips'], 'Refrigerator': [30000, 8, 'Samsung']}])"
      ]
     },
     "execution_count": 16,
     "metadata": {},
     "output_type": "execute_result"
    }
   ],
   "source": [
    "##How do you get all the values from a dictionary? (Use .values())\n",
    "retail_inventory.values()"
   ]
  },
  {
   "cell_type": "code",
   "execution_count": 27,
   "id": "2341bc99-ccdd-4e41-9290-e39038745b97",
   "metadata": {},
   "outputs": [
    {
     "data": {
      "text/plain": [
       "{'Laptop': [55000, 30, 'Dell'],\n",
       " 'Mobile': [25000, 50, 'Samsung'],\n",
       " 'Tablet': [18000, 20, 'Lenovo'],\n",
       " 'Smart Watch': [7999, 40, 'Noise']}"
      ]
     },
     "execution_count": 27,
     "metadata": {},
     "output_type": "execute_result"
    }
   ],
   "source": [
    "##How do you retrieve the value for a specific key safely? (Use .get(key))\n",
    "retail_inventory.get('Electronics','Home Appliances')"
   ]
  },
  {
   "cell_type": "code",
   "execution_count": 41,
   "id": "8bb7e69f-7a5d-44cf-b8c5-7ea944f8acfb",
   "metadata": {},
   "outputs": [],
   "source": [
    "##How do you check if a key exists in a dictionary? (Use in)"
   ]
  },
  {
   "cell_type": "code",
   "execution_count": 49,
   "id": "d410c341-0b50-40a1-a60a-ad82c001a146",
   "metadata": {},
   "outputs": [
    {
     "name": "stdout",
     "output_type": "stream",
     "text": [
      "yes\n"
     ]
    }
   ],
   "source": [
    "if \"Electronics\"  in  retail_inventory:\n",
    " print('yes')"
   ]
  },
  {
   "cell_type": "code",
   "execution_count": 56,
   "id": "e38055e1-d501-4d7f-8429-ae00a1ca6614",
   "metadata": {},
   "outputs": [
    {
     "ename": "NameError",
     "evalue": "name 'Print' is not defined",
     "output_type": "error",
     "traceback": [
      "\u001b[31m---------------------------------------------------------------------------\u001b[39m",
      "\u001b[31mNameError\u001b[39m                                 Traceback (most recent call last)",
      "\u001b[36mCell\u001b[39m\u001b[36m \u001b[39m\u001b[32mIn[56]\u001b[39m\u001b[32m, line 2\u001b[39m\n\u001b[32m      1\u001b[39m \u001b[38;5;28;01mif\u001b[39;00m \u001b[33m\"\u001b[39m\u001b[33mHome Appliances\u001b[39m\u001b[33m\"\u001b[39m  \u001b[38;5;129;01min\u001b[39;00m retail_inventory:\n\u001b[32m----> \u001b[39m\u001b[32m2\u001b[39m   \u001b[43mPrint\u001b[49m (\u001b[33m'\u001b[39m\u001b[33myes\u001b[39m\u001b[33m'\u001b[39m)\n",
      "\u001b[31mNameError\u001b[39m: name 'Print' is not defined"
     ]
    }
   ],
   "source": [
    "if \"Home Appliances\"  in retail_inventory:\n",
    "  Print ('yes')"
   ]
  },
  {
   "cell_type": "code",
   "execution_count": 53,
   "id": "a17a1ed5-c2fd-47a8-ae67-d936f4ce769c",
   "metadata": {},
   "outputs": [
    {
     "name": "stdout",
     "output_type": "stream",
     "text": [
      "yes\n"
     ]
    }
   ],
   "source": [
    "if \"Electronics\" in retail_inventory:\n",
    " print('yes')"
   ]
  },
  {
   "cell_type": "code",
   "execution_count": 73,
   "id": "f3d7ab46-34c1-4368-89af-d640c4f5d553",
   "metadata": {},
   "outputs": [],
   "source": [
    "if \"Apparel\" in retail_inventory:\n",
    " print('yes')"
   ]
  },
  {
   "cell_type": "code",
   "execution_count": null,
   "id": "6f799af1-b0d6-47e3-877f-8f7fdc6b55d4",
   "metadata": {},
   "outputs": [],
   "source": [
    "##How do you remove a key and return its value? (Use .pop(key))"
   ]
  },
  {
   "cell_type": "code",
   "execution_count": 67,
   "id": "b4382ab2-44f4-4c56-aafd-b3cca13668d7",
   "metadata": {},
   "outputs": [
    {
     "data": {
      "text/plain": [
       "{'T-Shirt': [499, 100, 'H&M'],\n",
       " 'Jeans': [1199, 60, \"Levi's\"],\n",
       " 'Jacket': [2499, 25, 'Puma']}"
      ]
     },
     "execution_count": 67,
     "metadata": {},
     "output_type": "execute_result"
    }
   ],
   "source": [
    "retail_inventory.pop(\"Apparel\")"
   ]
  },
  {
   "cell_type": "code",
   "execution_count": 74,
   "id": "126e8b2a-547c-4d1e-a20e-be832841d71e",
   "metadata": {},
   "outputs": [
    {
     "data": {
      "text/plain": [
       "{'Electronics': {'Laptop': [55000, 30, 'Dell'],\n",
       "  'Mobile': [25000, 50, 'Samsung'],\n",
       "  'Tablet': [18000, 20, 'Lenovo'],\n",
       "  'Smart Watch': [7999, 40, 'Noise']},\n",
       " 'Home Appliances': {'Microwave': [8500, 15, 'LG'],\n",
       "  'Vacuum Cleaner': [7000, 10, 'Philips'],\n",
       "  'Refrigerator': [30000, 8, 'Samsung']}}"
      ]
     },
     "execution_count": 74,
     "metadata": {},
     "output_type": "execute_result"
    }
   ],
   "source": [
    "##How do you copy a dictionary? (Use .copy())\n",
    "retail_inventory.copy()"
   ]
  },
  {
   "cell_type": "code",
   "execution_count": 79,
   "id": "4bbb46ce-d2e7-4747-8f1e-1aa1ca79eedd",
   "metadata": {},
   "outputs": [],
   "source": [
    "##How do you remove all key-value pairs from a dictionary? (Use .clear())\n",
    "retail_inventory.clear()"
   ]
  },
  {
   "cell_type": "raw",
   "id": "917e3302-f966-4c71-ac79-e23c680b8453",
   "metadata": {},
   "source": [
    "retail_inventory.copy()"
   ]
  },
  {
   "cell_type": "code",
   "execution_count": 81,
   "id": "b17ca052-1e47-4668-997b-3b933acc6431",
   "metadata": {},
   "outputs": [
    {
     "data": {
      "text/plain": [
       "{}"
      ]
     },
     "execution_count": 81,
     "metadata": {},
     "output_type": "execute_result"
    }
   ],
   "source": [
    "retail_inventory.copy()"
   ]
  },
  {
   "cell_type": "code",
   "execution_count": 82,
   "id": "c24cce33-062f-4463-b773-958fb10d1a03",
   "metadata": {},
   "outputs": [
    {
     "data": {
      "text/plain": [
       "dict_items([])"
      ]
     },
     "execution_count": 82,
     "metadata": {},
     "output_type": "execute_result"
    }
   ],
   "source": [
    "##How do you retrieve both keys and values? (Use .items())\n",
    "retail_inventory.items()"
   ]
  },
  {
   "cell_type": "code",
   "execution_count": null,
   "id": "7caf80a6-5ac3-465d-b58c-708376fbc1a3",
   "metadata": {},
   "outputs": [],
   "source": [
    "##How do you create an empty dictionary? (Use {} or dict())"
   ]
  },
  {
   "cell_type": "code",
   "execution_count": 83,
   "id": "a8ae0531-d669-4a03-a400-aab173cc65b1",
   "metadata": {},
   "outputs": [
    {
     "ename": "SyntaxError",
     "evalue": "invalid syntax (275043797.py, line 1)",
     "output_type": "error",
     "traceback": [
      "  \u001b[36mCell\u001b[39m\u001b[36m \u001b[39m\u001b[32mIn[83]\u001b[39m\u001b[32m, line 1\u001b[39m\n\u001b[31m    \u001b[39m\u001b[31mretail_inventory{}\u001b[39m\n                    ^\n\u001b[31mSyntaxError\u001b[39m\u001b[31m:\u001b[39m invalid syntax\n"
     ]
    }
   ],
   "source": [
    "retail_inventory{}"
   ]
  },
  {
   "cell_type": "code",
   "execution_count": null,
   "id": "d2efdab4-3d9d-47ec-8b7e-1e49d4771980",
   "metadata": {},
   "outputs": [],
   "source": []
  },
  {
   "cell_type": "code",
   "execution_count": null,
   "id": "b2fb5e4f-a71f-4627-9415-591158277d3f",
   "metadata": {},
   "outputs": [],
   "source": [
    "##How do you add or update a value for a key? (Use .update({key: value}))\n"
   ]
  },
  {
   "cell_type": "code",
   "execution_count": null,
   "id": "2fbe60e0-6547-4e54-af09-4332be0b0d30",
   "metadata": {},
   "outputs": [],
   "source": [
    "##How do you add or update a value for a key? (Use .update({key: value}))"
   ]
  },
  {
   "cell_type": "code",
   "execution_count": 84,
   "id": "50561fbd-465c-446c-9d42-aab85252de9b",
   "metadata": {},
   "outputs": [
    {
     "data": {
      "text/plain": [
       "{}"
      ]
     },
     "execution_count": 84,
     "metadata": {},
     "output_type": "execute_result"
    }
   ],
   "source": [
    "retail_inventory"
   ]
  },
  {
   "cell_type": "code",
   "execution_count": 92,
   "id": "ce729020-58f6-4978-9104-e8e912340997",
   "metadata": {},
   "outputs": [
    {
     "ename": "IndentationError",
     "evalue": "unexpected indent (3970238640.py, line 3)",
     "output_type": "error",
     "traceback": [
      "  \u001b[36mCell\u001b[39m\u001b[36m \u001b[39m\u001b[32mIn[92]\u001b[39m\u001b[32m, line 3\u001b[39m\n\u001b[31m    \u001b[39m\u001b[31mprint(my_data)\u001b[39m\n    ^\n\u001b[31mIndentationError\u001b[39m\u001b[31m:\u001b[39m unexpected indent\n"
     ]
    }
   ],
   "source": [
    "##How do you copy a dictionary? (Use .copy())\n",
    "my_data=retail_inventory.copy()['Electronics']\n",
    " print(my_data)"
   ]
  },
  {
   "cell_type": "code",
   "execution_count": 93,
   "id": "693d0239-df95-425f-9ad3-6ae2d3131375",
   "metadata": {},
   "outputs": [],
   "source": [
    "retail_inventory = {\n",
    "    \"Electronics\": {\n",
    "        \"Laptop\": [55000, 30, \"Dell\"],\n",
    "        \"Mobile\": [25000, 50, \"Samsung\"],\n",
    "        \"Tablet\": [18000, 20, \"Lenovo\"],\n",
    "        \"Smart Watch\": [7999, 40, \"Noise\"]\n",
    "    },\n",
    "    \"Apparel\": {\n",
    "        \"T-Shirt\": [499, 100, \"H&M\"],\n",
    "        \"Jeans\": [1199, 60, \"Levi's\"],\n",
    "        \"Jacket\": [2499, 25, \"Puma\"]\n",
    "    },\n",
    "    \"Home Appliances\": {\n",
    "        \"Microwave\": [8500, 15, \"LG\"],\n",
    "        \"Vacuum Cleaner\": [7000, 10, \"Philips\"],\n",
    "        \"Refrigerator\": [30000, 8, \"Samsung\"]\n",
    "    }\n",
    "}\n"
   ]
  },
  {
   "cell_type": "code",
   "execution_count": 94,
   "id": "e0feb441-f9d2-4881-8bcf-e29ab5817baf",
   "metadata": {},
   "outputs": [
    {
     "data": {
      "text/plain": [
       "{'Electronics': {'Laptop': [55000, 30, 'Dell'],\n",
       "  'Mobile': [25000, 50, 'Samsung'],\n",
       "  'Tablet': [18000, 20, 'Lenovo'],\n",
       "  'Smart Watch': [7999, 40, 'Noise']},\n",
       " 'Apparel': {'T-Shirt': [499, 100, 'H&M'],\n",
       "  'Jeans': [1199, 60, \"Levi's\"],\n",
       "  'Jacket': [2499, 25, 'Puma']},\n",
       " 'Home Appliances': {'Microwave': [8500, 15, 'LG'],\n",
       "  'Vacuum Cleaner': [7000, 10, 'Philips'],\n",
       "  'Refrigerator': [30000, 8, 'Samsung']}}"
      ]
     },
     "execution_count": 94,
     "metadata": {},
     "output_type": "execute_result"
    }
   ],
   "source": [
    "retail_inventory"
   ]
  },
  {
   "cell_type": "code",
   "execution_count": 95,
   "id": "1dbe30d6-8ff1-4b6d-b660-a03eb9b552da",
   "metadata": {},
   "outputs": [
    {
     "name": "stdout",
     "output_type": "stream",
     "text": [
      "{'Laptop': [55000, 30, 'Dell'], 'Mobile': [25000, 50, 'Samsung'], 'Tablet': [18000, 20, 'Lenovo'], 'Smart Watch': [7999, 40, 'Noise']}\n"
     ]
    }
   ],
   "source": [
    "##How do you copy a dictionary? (Use .copy())\n",
    "my_data=retail_inventory.copy()['Electronics']\n",
    "print(my_data)"
   ]
  },
  {
   "cell_type": "code",
   "execution_count": 96,
   "id": "e47f0245-e760-4258-b2e4-ab8abf144690",
   "metadata": {},
   "outputs": [
    {
     "data": {
      "text/plain": [
       "{'Electronics': {'Laptop': [55000, 30, 'Dell'],\n",
       "  'Mobile': [25000, 50, 'Samsung'],\n",
       "  'Tablet': [18000, 20, 'Lenovo'],\n",
       "  'Smart Watch': [7999, 40, 'Noise']},\n",
       " 'Apparel': {'T-Shirt': [499, 100, 'H&M'],\n",
       "  'Jeans': [1199, 60, \"Levi's\"],\n",
       "  'Jacket': [2499, 25, 'Puma']},\n",
       " 'Home Appliances': {'Microwave': [8500, 15, 'LG'],\n",
       "  'Vacuum Cleaner': [7000, 10, 'Philips'],\n",
       "  'Refrigerator': [30000, 8, 'Samsung']}}"
      ]
     },
     "execution_count": 96,
     "metadata": {},
     "output_type": "execute_result"
    }
   ],
   "source": [
    "retail_inventory"
   ]
  },
  {
   "cell_type": "code",
   "execution_count": 103,
   "id": "5229a722-103d-41ea-a89c-f70275b173c6",
   "metadata": {},
   "outputs": [
    {
     "name": "stdout",
     "output_type": "stream",
     "text": [
      "{'Electronics': {'Laptop': [55000, 30, 'Dell'], 'Mobile': [25000, 50, 'Samsung'], 'Tablet': [18000, 20, 'Lenovo'], 'Smart Watch': [7999, 40, 'Noise']}, 'Apparel': {'T-Shirt': [499, 100, 'H&M'], 'Jeans': [1199, 60, \"Levi's\"], 'Jacket': [2499, 25, 'Puma']}, 'Home Appliances': {'Microwave': [8500, 15, 'LG'], 'Vacuum Cleaner': [7000, 10, 'Philips'], 'Refrigerator': [30000, 8, 'Samsung']}, 'makeup Items': 'power'}\n"
     ]
    }
   ],
   "source": [
    "##How do you add or update a value for a key? (Use .update({key: value}))\n",
    "retail_inventory.update({\"makeup Items\":\"power\"})\n",
    "print(retail_inventory)\n"
   ]
  },
  {
   "cell_type": "code",
   "execution_count": 99,
   "id": "905c772f-a319-4daf-b47a-1215293e3de5",
   "metadata": {},
   "outputs": [
    {
     "name": "stdout",
     "output_type": "stream",
     "text": [
      "{'Electronics': {'Laptop': [55000, 30, 'Dell'], 'Mobile': [25000, 50, 'Samsung'], 'Tablet': [18000, 20, 'Lenovo'], 'Smart Watch': [7999, 40, 'Noise']}, 'Apparel': {'T-Shirt': [499, 100, 'H&M'], 'Jeans': [1199, 60, \"Levi's\"], 'Jacket': [2499, 25, 'Puma']}, 'Home Appliances': {'Microwave': [8500, 15, 'LG'], 'Vacuum Cleaner': [7000, 10, 'Philips'], 'Refrigerator': [30000, 8, 'Samsung']}, 'makeup Items': 'power'}\n"
     ]
    }
   ],
   "source": [
    "retail_inventory.update({\"makeup Items\": \"power\"})\n",
    "\n",
    "print(retail_inventory)"
   ]
  },
  {
   "cell_type": "code",
   "execution_count": 104,
   "id": "0716abec-fea9-4422-a495-b682d2877a83",
   "metadata": {},
   "outputs": [
    {
     "data": {
      "text/plain": [
       "dict_items([('Electronics', {'Laptop': [55000, 30, 'Dell'], 'Mobile': [25000, 50, 'Samsung'], 'Tablet': [18000, 20, 'Lenovo'], 'Smart Watch': [7999, 40, 'Noise']}), ('Apparel', {'T-Shirt': [499, 100, 'H&M'], 'Jeans': [1199, 60, \"Levi's\"], 'Jacket': [2499, 25, 'Puma']}), ('Home Appliances', {'Microwave': [8500, 15, 'LG'], 'Vacuum Cleaner': [7000, 10, 'Philips'], 'Refrigerator': [30000, 8, 'Samsung']}), ('makeup Items', 'power')])"
      ]
     },
     "execution_count": 104,
     "metadata": {},
     "output_type": "execute_result"
    }
   ],
   "source": [
    "##How do you retrieve both keys and values? (Use .items())\n",
    "retail_inventory.items()"
   ]
  },
  {
   "cell_type": "code",
   "execution_count": null,
   "id": "ef986fe8-e231-4116-b76f-e82a1df66632",
   "metadata": {},
   "outputs": [],
   "source": []
  },
  {
   "cell_type": "code",
   "execution_count": 105,
   "id": "d3a2a3fa-6971-414b-9e61-b7a30ac99238",
   "metadata": {},
   "outputs": [
    {
     "data": {
      "text/plain": [
       "{}"
      ]
     },
     "execution_count": 105,
     "metadata": {},
     "output_type": "execute_result"
    }
   ],
   "source": [
    "##How do you create an empty dictionary? (Use {} or dict())"
   ]
  },
  {
   "cell_type": "code",
   "execution_count": null,
   "id": "c905aa27-6c84-4775-86e6-7736a76f2cdf",
   "metadata": {},
   "outputs": [],
   "source": []
  },
  {
   "cell_type": "code",
   "execution_count": null,
   "id": "f82c42dd-70f0-4c89-a0b1-c39199d2ff45",
   "metadata": {},
   "outputs": [],
   "source": [
    "## Medium (Level 2)\n",
    "## Use .setdefault() to assign a default value to a missing key.\n",
    "## Use .update() to merge two dictionaries.\n",
    "## Use .get() with a default return value if key is not found.\n",
    "## What’s the difference between .pop() and .popitem()? Try both.\n",
    "## Use del to remove a key from a dictionary.\n",
    "## Get the number of keys in a dictionary. (Use len())\n",
    "## Convert a list of tuples into a dictionary. (Use dict() constructor)\n",
    "## Create a dictionary from two lists: one of keys and one of values. (Use zip() and dict())\n",
    "## Check if two dictionaries have the same keys. (Use .keys() and ==)\n",
    "## Check if a dictionary is empty. (Use not or len())"
   ]
  },
  {
   "cell_type": "code",
   "execution_count": null,
   "id": "baa60ab1-d8b8-4875-8b62-6118b5da1cb2",
   "metadata": {},
   "outputs": [],
   "source": [
    "##Use .setdefault() to assign a default value to a missing key.\n"
   ]
  },
  {
   "cell_type": "code",
   "execution_count": 107,
   "id": "0187134c-b747-4bb2-ab76-bb5d5c3a6d10",
   "metadata": {},
   "outputs": [
    {
     "name": "stdout",
     "output_type": "stream",
     "text": [
      "{'Electronics': {'Laptop': [55000, 30, 'Dell'], 'Mobile': [25000, 50, 'Samsung'], 'Tablet': [18000, 20, 'Lenovo'], 'Smart Watch': [7999, 40, 'Noise']}, 'Apparel': {'T-Shirt': [499, 100, 'H&M'], 'Jeans': [1199, 60, \"Levi's\"], 'Jacket': [2499, 25, 'Puma']}, 'Home Appliances': {'Microwave': [8500, 15, 'LG'], 'Vacuum Cleaner': [7000, 10, 'Philips'], 'Refrigerator': [30000, 8, 'Samsung']}, 'makeup Items': 'power', 'Groceries': {'Apples': 50, 'Bananas': 30}}\n"
     ]
    }
   ],
   "source": [
    "retail_inventory.setdefault('Groceries', {'Apples': 50, 'Bananas': 30})\n",
    "\n",
    "print(retail_inventory)"
   ]
  },
  {
   "cell_type": "code",
   "execution_count": null,
   "id": "3b819e8a-331e-4840-a59a-f9533d6e7516",
   "metadata": {},
   "outputs": [],
   "source": []
  },
  {
   "cell_type": "code",
   "execution_count": null,
   "id": "9a7e3f60-d30f-40fc-a346-b6beabc73560",
   "metadata": {},
   "outputs": [],
   "source": []
  },
  {
   "cell_type": "code",
   "execution_count": null,
   "id": "e57ef8af-7b95-4cbf-a614-2e032ccd8a15",
   "metadata": {},
   "outputs": [],
   "source": [
    "## Use .update() to merge two dictionaries.\n",
    "newdata1={'beauty products':'powder',\n",
    "          'healthcare':'cosmetics',\n",
    "          'sports':'cricket'}\n",
    "     "
   ]
  },
  {
   "cell_type": "code",
   "execution_count": 114,
   "id": "08d342b6-df6d-4f91-aa66-7e4c963f4017",
   "metadata": {},
   "outputs": [
    {
     "ename": "ValueError",
     "evalue": "dictionary update sequence element #0 has length 1; 2 is required",
     "output_type": "error",
     "traceback": [
      "\u001b[31m---------------------------------------------------------------------------\u001b[39m",
      "\u001b[31mValueError\u001b[39m                                Traceback (most recent call last)",
      "\u001b[36mCell\u001b[39m\u001b[36m \u001b[39m\u001b[32mIn[114]\u001b[39m\u001b[32m, line 1\u001b[39m\n\u001b[32m----> \u001b[39m\u001b[32m1\u001b[39m \u001b[43mretail_inventory\u001b[49m\u001b[43m.\u001b[49m\u001b[43mupdate\u001b[49m\u001b[43m(\u001b[49m\u001b[33;43m\"\u001b[39;49m\u001b[33;43mnewdata1\u001b[39;49m\u001b[33;43m\"\u001b[39;49m\u001b[43m)\u001b[49m\n\u001b[32m      2\u001b[39m \u001b[38;5;28mprint\u001b[39m(\u001b[33m'\u001b[39m\u001b[33mretail_inventory\u001b[39m\u001b[33m'\u001b[39m)\n",
      "\u001b[31mValueError\u001b[39m: dictionary update sequence element #0 has length 1; 2 is required"
     ]
    }
   ],
   "source": [
    "retail_inventory.update(\"newdata1\")\n",
    "print('retail_inventory')"
   ]
  },
  {
   "cell_type": "code",
   "execution_count": 115,
   "id": "4c1b0195-edac-4e80-949f-c204085858b3",
   "metadata": {},
   "outputs": [
    {
     "ename": "ValueError",
     "evalue": "dictionary update sequence element #0 has length 1; 2 is required",
     "output_type": "error",
     "traceback": [
      "\u001b[31m---------------------------------------------------------------------------\u001b[39m",
      "\u001b[31mValueError\u001b[39m                                Traceback (most recent call last)",
      "\u001b[36mCell\u001b[39m\u001b[36m \u001b[39m\u001b[32mIn[115]\u001b[39m\u001b[32m, line 1\u001b[39m\n\u001b[32m----> \u001b[39m\u001b[32m1\u001b[39m x=(\u001b[43mretail_inventory\u001b[49m\u001b[43m.\u001b[49m\u001b[43mupdate\u001b[49m\u001b[43m(\u001b[49m\u001b[33;43m'\u001b[39;49m\u001b[33;43mnewdata1\u001b[39;49m\u001b[33;43m'\u001b[39;49m\u001b[43m)\u001b[49m)\n\u001b[32m      3\u001b[39m \u001b[38;5;28mprint\u001b[39m(retail_inventory)\n",
      "\u001b[31mValueError\u001b[39m: dictionary update sequence element #0 has length 1; 2 is required"
     ]
    }
   ],
   "source": [
    "x=(retail_inventory.update('newdata1'))\n",
    "\n",
    "print(retail_inventory)\n"
   ]
  },
  {
   "cell_type": "code",
   "execution_count": 116,
   "id": "9a30c5a1-ffb8-449d-b491-f45ae5b7256c",
   "metadata": {},
   "outputs": [
    {
     "ename": "NameError",
     "evalue": "name 'retail' is not defined",
     "output_type": "error",
     "traceback": [
      "\u001b[31m---------------------------------------------------------------------------\u001b[39m",
      "\u001b[31mNameError\u001b[39m                                 Traceback (most recent call last)",
      "\u001b[36mCell\u001b[39m\u001b[36m \u001b[39m\u001b[32mIn[116]\u001b[39m\u001b[32m, line 2\u001b[39m\n\u001b[32m      1\u001b[39m \u001b[38;5;66;03m## Use .get() with a default return value if key is not found.retail.\u001b[39;00m\n\u001b[32m----> \u001b[39m\u001b[32m2\u001b[39m \u001b[43mretail\u001b[49m.inventory.get()\n",
      "\u001b[31mNameError\u001b[39m: name 'retail' is not defined"
     ]
    }
   ],
   "source": [
    "## Use .get() with a default return value if key is not found.retail.\n",
    "retail.inventory.get()"
   ]
  },
  {
   "cell_type": "code",
   "execution_count": null,
   "id": "e1449a02-a771-427c-9c33-590eb8360962",
   "metadata": {},
   "outputs": [],
   "source": []
  },
  {
   "cell_type": "code",
   "execution_count": 119,
   "id": "f8471d92-8253-4d47-9ded-eb2a1baff3c3",
   "metadata": {},
   "outputs": [
    {
     "data": {
      "text/plain": [
       "{'Laptop': [55000, 30, 'Dell'],\n",
       " 'Mobile': [25000, 50, 'Samsung'],\n",
       " 'Tablet': [18000, 20, 'Lenovo'],\n",
       " 'Smart Watch': [7999, 40, 'Noise']}"
      ]
     },
     "execution_count": 119,
     "metadata": {},
     "output_type": "execute_result"
    }
   ],
   "source": [
    "##What’s the difference between .pop() and .popitem()? Try both.\n",
    "retail_inventory.pop(\"Electronics\")"
   ]
  },
  {
   "cell_type": "code",
   "execution_count": 121,
   "id": "23f2f257-2d90-4e4f-89b3-3e0f8c9d9dbc",
   "metadata": {},
   "outputs": [
    {
     "data": {
      "text/plain": [
       "('Groceries', {'Apples': 50, 'Bananas': 30})"
      ]
     },
     "execution_count": 121,
     "metadata": {},
     "output_type": "execute_result"
    }
   ],
   "source": [
    "##What’s the difference between .pop() and .popitem()? Try both.\n",
    "retail_inventory.popitem()"
   ]
  },
  {
   "cell_type": "code",
   "execution_count": 124,
   "id": "4b3080ba-c90d-4107-bb12-2fb7043359e5",
   "metadata": {},
   "outputs": [],
   "source": [
    "##Use del to remove a key from a dictionary.\n",
    "del retail_inventory[\"Apparel\"]"
   ]
  },
  {
   "cell_type": "code",
   "execution_count": 125,
   "id": "b8ed1b13-8385-4168-b8b0-6ecc909c79d0",
   "metadata": {},
   "outputs": [
    {
     "data": {
      "text/plain": [
       "{'Home Appliances': {'Microwave': [8500, 15, 'LG'],\n",
       "  'Vacuum Cleaner': [7000, 10, 'Philips'],\n",
       "  'Refrigerator': [30000, 8, 'Samsung']},\n",
       " 'makeup Items': 'power'}"
      ]
     },
     "execution_count": 125,
     "metadata": {},
     "output_type": "execute_result"
    }
   ],
   "source": [
    "retail_inventory"
   ]
  },
  {
   "cell_type": "code",
   "execution_count": 128,
   "id": "7606f39b-bba5-4345-ad5b-83d5f0452903",
   "metadata": {},
   "outputs": [
    {
     "ename": "KeyError",
     "evalue": "'Electronics'",
     "output_type": "error",
     "traceback": [
      "\u001b[31m---------------------------------------------------------------------------\u001b[39m",
      "\u001b[31mKeyError\u001b[39m                                  Traceback (most recent call last)",
      "\u001b[36mCell\u001b[39m\u001b[36m \u001b[39m\u001b[32mIn[128]\u001b[39m\u001b[32m, line 2\u001b[39m\n\u001b[32m      1\u001b[39m \u001b[38;5;66;03m##Get the number of keys in a dictionary. (Use len())\u001b[39;00m\n\u001b[32m----> \u001b[39m\u001b[32m2\u001b[39m \u001b[38;5;28mlen\u001b[39m(\u001b[43mretail_inventory\u001b[49m\u001b[43m[\u001b[49m\u001b[33;43m\"\u001b[39;49m\u001b[33;43mElectronics\u001b[39;49m\u001b[33;43m\"\u001b[39;49m\u001b[43m]\u001b[49m)\n",
      "\u001b[31mKeyError\u001b[39m: 'Electronics'"
     ]
    }
   ],
   "source": [
    "##Get the number of keys in a dictionary. (Use len())\n",
    "len(retail_inventory[\"Electronics\"])"
   ]
  },
  {
   "cell_type": "code",
   "execution_count": 130,
   "id": "7f81f426-8022-4857-83f0-8274acc18c56",
   "metadata": {},
   "outputs": [
    {
     "data": {
      "text/plain": [
       "3"
      ]
     },
     "execution_count": 130,
     "metadata": {},
     "output_type": "execute_result"
    }
   ],
   "source": [
    "len(retail_inventory[\"Home Appliances\"])"
   ]
  },
  {
   "cell_type": "code",
   "execution_count": null,
   "id": "2800efdb-c9a9-48b3-b921-7b69d0ab8685",
   "metadata": {},
   "outputs": [],
   "source": []
  },
  {
   "cell_type": "code",
   "execution_count": 131,
   "id": "f357739a-958f-4d1d-868d-1a4acc1211f8",
   "metadata": {},
   "outputs": [
    {
     "name": "stdout",
     "output_type": "stream",
     "text": [
      "{'a': 1, 'b': 2, 'c': 3}\n"
     ]
    }
   ],
   "source": [
    "##Convert a list of tuples into a dictionary. (Use dict() constructor)\n",
    "# List of tuples\n",
    "tuples = [('a', 1), ('b', 2), ('c', 3)]\n",
    "\n",
    "my_dict = dict(tuples)\n",
    "\n",
    "print(my_dict)\n"
   ]
  },
  {
   "cell_type": "code",
   "execution_count": null,
   "id": "853e6db9-89d8-4417-8eb9-319d6389adba",
   "metadata": {},
   "outputs": [],
   "source": []
  },
  {
   "cell_type": "code",
   "execution_count": 137,
   "id": "8080d407-aaee-45fb-a9e6-da6bfaffe8eb",
   "metadata": {},
   "outputs": [],
   "source": [
    "##Create a dictionary from two lists: one of keys and one of values. (Use zip() and dict())\n",
    "##List of keys\n",
    "Keys=['Mango','Grape','Apple']\n",
    "\n",
    "##list of Values\n",
    "Values=[ 2,3,5]\n",
    "\n",
    "my_dict= dict(zip(Keys,Values))"
   ]
  },
  {
   "cell_type": "code",
   "execution_count": 139,
   "id": "e6176f6d-0263-464c-a995-9f95ee7ea114",
   "metadata": {},
   "outputs": [
    {
     "name": "stdout",
     "output_type": "stream",
     "text": [
      "{'Mango': 2, 'Grape': 3, 'Apple': 5}\n"
     ]
    }
   ],
   "source": [
    "print(my_dict)"
   ]
  },
  {
   "cell_type": "code",
   "execution_count": null,
   "id": "ac96074c-df73-4cf9-b418-4bbfb2240ac7",
   "metadata": {},
   "outputs": [],
   "source": []
  },
  {
   "cell_type": "code",
   "execution_count": null,
   "id": "bd275ada-5fbf-4ffa-8ecd-b14602dc603b",
   "metadata": {},
   "outputs": [],
   "source": [
    "##Check if two dictionaries have the same keys. (Use .keys() and ==)"
   ]
  },
  {
   "cell_type": "code",
   "execution_count": 140,
   "id": "f07503cb-55a8-40f9-b6a3-6e72d6fa724c",
   "metadata": {},
   "outputs": [
    {
     "data": {
      "text/plain": [
       "dict_keys(['Home Appliances', 'makeup Items'])"
      ]
     },
     "execution_count": 140,
     "metadata": {},
     "output_type": "execute_result"
    }
   ],
   "source": [
    "retail_inventory.keys()"
   ]
  },
  {
   "cell_type": "code",
   "execution_count": null,
   "id": "a264e126-28e1-42f6-b830-f081a95ce43f",
   "metadata": {},
   "outputs": [],
   "source": []
  },
  {
   "cell_type": "code",
   "execution_count": 141,
   "id": "2ac72615-a09d-446d-bda4-6aaf92729f58",
   "metadata": {},
   "outputs": [
    {
     "name": "stdout",
     "output_type": "stream",
     "text": [
      "False\n"
     ]
    }
   ],
   "source": [
    "tuple1 = {'a': 1, 'b': 2, 'c': 3}\n",
    "tuple2 = {'a': 10, 'b': 20, 'd': 30}\n",
    "\n",
    "# Check if they have the same keys\n",
    "same_keys = tuple1.keys() == tuple2.keys()\n",
    "\n",
    "print(same_keys)\n"
   ]
  },
  {
   "cell_type": "code",
   "execution_count": 142,
   "id": "7d246562-75a3-4f23-88a2-c368cb5f2ba0",
   "metadata": {},
   "outputs": [
    {
     "ename": "NameError",
     "evalue": "name 'retail' is not defined",
     "output_type": "error",
     "traceback": [
      "\u001b[31m---------------------------------------------------------------------------\u001b[39m",
      "\u001b[31mNameError\u001b[39m                                 Traceback (most recent call last)",
      "\u001b[36mCell\u001b[39m\u001b[36m \u001b[39m\u001b[32mIn[142]\u001b[39m\u001b[32m, line 3\u001b[39m\n\u001b[32m      1\u001b[39m \u001b[38;5;66;03m##Check if a dictionary is empty. (Use not or len())\u001b[39;00m\n\u001b[32m----> \u001b[39m\u001b[32m3\u001b[39m \u001b[38;5;28mlen\u001b[39m(\u001b[43mretail\u001b[49m.inventory)\n",
      "\u001b[31mNameError\u001b[39m: name 'retail' is not defined"
     ]
    }
   ],
   "source": [
    "##Check if a dictionary is empty. (Use not or len())\n",
    "\n",
    "len(retail.inventory)"
   ]
  },
  {
   "cell_type": "code",
   "execution_count": 145,
   "id": "c4a9e6bf-3525-4b32-afce-ad9fb5fc2ff7",
   "metadata": {},
   "outputs": [
    {
     "name": "stdout",
     "output_type": "stream",
     "text": [
      "The dictionary is empty\n"
     ]
    }
   ],
   "source": [
    "my_dict={}\n",
    "\n",
    "if not my_dict :\n",
    "    print(\"The dictionary is empty\")\n",
    "else :\n",
    " print(\"The dictionary is not empty\")"
   ]
  },
  {
   "cell_type": "code",
   "execution_count": null,
   "id": "035e89f6-40b0-4a42-9612-b9784fb3a62d",
   "metadata": {},
   "outputs": [],
   "source": []
  },
  {
   "cell_type": "code",
   "execution_count": null,
   "id": "409c9487-fe3f-4358-adf0-327090272d59",
   "metadata": {},
   "outputs": [],
   "source": []
  },
  {
   "cell_type": "code",
   "execution_count": null,
   "id": "c8366dd5-7781-4536-b8cd-c124cfdec8fd",
   "metadata": {},
   "outputs": [],
   "source": []
  }
 ],
 "metadata": {
  "kernelspec": {
   "display_name": "Python 3 (ipykernel)",
   "language": "python",
   "name": "python3"
  },
  "language_info": {
   "codemirror_mode": {
    "name": "ipython",
    "version": 3
   },
   "file_extension": ".py",
   "mimetype": "text/x-python",
   "name": "python",
   "nbconvert_exporter": "python",
   "pygments_lexer": "ipython3",
   "version": "3.13.2"
  }
 },
 "nbformat": 4,
 "nbformat_minor": 5
}
