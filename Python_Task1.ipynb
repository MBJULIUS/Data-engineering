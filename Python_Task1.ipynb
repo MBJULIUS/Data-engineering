{
 "cells": [
  {
   "cell_type": "markdown",
   "id": "749786b6-656d-4125-8eef-31400ac36cc9",
   "metadata": {},
   "source": [
    "# "
   ]
  },
  {
   "cell_type": "code",
   "execution_count": 7,
   "id": "a0b29916-12a2-4f59-a57b-f6fd858fa6e9",
   "metadata": {},
   "outputs": [],
   "source": [
    "retail_inventory={\n",
    "    \"Electronics\":{\n",
    "        \"Laptop\":[55000,30,\"Dell\"],\n",
    "        \"Mobile\":[25000,50,\"Samsung\"],\n",
    "        \"Tablet\":[18000,20,\"Lenova\"],\n",
    "        \"Smart Watch\":[7999,40,\"Noise\"]\n",
    "    },\n",
    "    \"Apparel\":{\n",
    "        \"T-Shirt\":[499,100,\"H&M\"],\n",
    "        \"Jeans\"  :[1199,60,\"Levi's\"],\n",
    "        \"Jacket\" :[2499,25,\"Puma\"]\n",
    "    },\n",
    "    \"Home Appliances\":{\n",
    "        \"Microwave\":[8500,15,\"LG\"],\n",
    "        \"Vaccum Cleaner\":[7000,10,\"Philips\"],\n",
    "        \"Refrigeretor\":[30000,8,\"Samsung\"]\n",
    "    }\n",
    "}"
   ]
  },
  {
   "cell_type": "code",
   "execution_count": 12,
   "id": "5057a49b-3f94-478d-92b3-07dbaa329b92",
   "metadata": {},
   "outputs": [
    {
     "data": {
      "text/plain": [
       "dict_keys(['Electronics', 'Apparel', 'Home Appliances'])"
      ]
     },
     "execution_count": 12,
     "metadata": {},
     "output_type": "execute_result"
    }
   ],
   "source": [
    "##How do you get all the keys from a dictionary? (Use .keys()\n",
    "retail_inventory.keys()"
   ]
  },
  {
   "cell_type": "code",
   "execution_count": 13,
   "id": "b91f11c5-8277-401d-902d-59f714831363",
   "metadata": {},
   "outputs": [
    {
     "data": {
      "text/plain": [
       "dict_values([{'Laptop': [55000, 30, 'Dell'], 'Mobile': [25000, 50, 'Samsung'], 'Tablet': [18000, 20, 'Lenova'], 'Smart Watch': [7999, 40, 'Noise']}, {'T-Shirt': [499, 100, 'H&M'], 'Jeans': [1199, 60, \"Levi's\"], 'Jacket': [2499, 25, 'Puma']}, {'Microwave': [8500, 15, 'LG'], 'Vaccum Cleaner': [7000, 10, 'Philips'], 'Refrigeretor': [30000, 8, 'Samsung']}])"
      ]
     },
     "execution_count": 13,
     "metadata": {},
     "output_type": "execute_result"
    }
   ],
   "source": [
    "##How do you get all the values from a dictionary? (Use .values())\n",
    "retail_inventory.values()"
   ]
  },
  {
   "cell_type": "code",
   "execution_count": 14,
   "id": "35cbef12-240d-4853-ba0d-e48f7a652775",
   "metadata": {},
   "outputs": [
    {
     "ename": "NameError",
     "evalue": "name 'Retail_Inventory' is not defined",
     "output_type": "error",
     "traceback": [
      "\u001b[31m---------------------------------------------------------------------------\u001b[39m",
      "\u001b[31mNameError\u001b[39m                                 Traceback (most recent call last)",
      "\u001b[36mCell\u001b[39m\u001b[36m \u001b[39m\u001b[32mIn[14]\u001b[39m\u001b[32m, line 2\u001b[39m\n\u001b[32m      1\u001b[39m \u001b[38;5;66;03m##How do you retrieve the value for a specific key safely? (Use .get(key))\u001b[39;00m\n\u001b[32m----> \u001b[39m\u001b[32m2\u001b[39m \u001b[43mRetail_Inventory\u001b[49m.get(keys)\n",
      "\u001b[31mNameError\u001b[39m: name 'Retail_Inventory' is not defined"
     ]
    }
   ],
   "source": [
    "##How do you retrieve the value for a specific key safely? (Use .get(key))\n",
    "Retail_Inventory.get(keys)"
   ]
  },
  {
   "cell_type": "code",
   "execution_count": 17,
   "id": "29f26f99-4804-4dd3-ba79-931fdf90631e",
   "metadata": {},
   "outputs": [
    {
     "data": {
      "text/plain": [
       "{'Laptop': [55000, 30, 'Dell'],\n",
       " 'Mobile': [25000, 50, 'Samsung'],\n",
       " 'Tablet': [18000, 20, 'Lenova'],\n",
       " 'Smart Watch': [7999, 40, 'Noise']}"
      ]
     },
     "execution_count": 17,
     "metadata": {},
     "output_type": "execute_result"
    }
   ],
   "source": [
    "##How do you retrieve the value for a specific key safely? (Use .get(key))\n",
    "retail_inventory.get('Electronics','Home Appliances')"
   ]
  },
  {
   "cell_type": "code",
   "execution_count": 23,
   "id": "b739ad8f-c0f9-4674-8810-937cd9c9537b",
   "metadata": {},
   "outputs": [
    {
     "name": "stdout",
     "output_type": "stream",
     "text": [
      "yes\n"
     ]
    }
   ],
   "source": [
    "##How do you check if a key exists in a dictionary? (Use in)\n",
    "if \"Electronics\"  in  retail_inventory:\n",
    " print('yes')"
   ]
  },
  {
   "cell_type": "code",
   "execution_count": 24,
   "id": "5851b452-0444-48d0-b544-9a89019b5095",
   "metadata": {},
   "outputs": [
    {
     "data": {
      "text/plain": [
       "{'Microwave': [8500, 15, 'LG'],\n",
       " 'Vaccum Cleaner': [7000, 10, 'Philips'],\n",
       " 'Refrigeretor': [30000, 8, 'Samsung']}"
      ]
     },
     "execution_count": 24,
     "metadata": {},
     "output_type": "execute_result"
    }
   ],
   "source": [
    "##How do you remove a key and return its value? (Use .pop(key))\n",
    "retail_inventory.pop(\"Home Appliances\")"
   ]
  },
  {
   "cell_type": "code",
   "execution_count": 25,
   "id": "f0676ef0-1cca-46ea-b599-4dc89cd31f55",
   "metadata": {},
   "outputs": [
    {
     "data": {
      "text/plain": [
       "{'Electronics': {'Laptop': [55000, 30, 'Dell'],\n",
       "  'Mobile': [25000, 50, 'Samsung'],\n",
       "  'Tablet': [18000, 20, 'Lenova'],\n",
       "  'Smart Watch': [7999, 40, 'Noise']},\n",
       " 'Apparel': {'T-Shirt': [499, 100, 'H&M'],\n",
       "  'Jeans': [1199, 60, \"Levi's\"],\n",
       "  'Jacket': [2499, 25, 'Puma']}}"
      ]
     },
     "execution_count": 25,
     "metadata": {},
     "output_type": "execute_result"
    }
   ],
   "source": [
    "retail_inventory"
   ]
  },
  {
   "cell_type": "code",
   "execution_count": 26,
   "id": "3a0e6d73-02e5-48e7-ab06-2abfbd863483",
   "metadata": {},
   "outputs": [
    {
     "data": {
      "text/plain": [
       "dict_items([('Electronics', {'Laptop': [55000, 30, 'Dell'], 'Mobile': [25000, 50, 'Samsung'], 'Tablet': [18000, 20, 'Lenova'], 'Smart Watch': [7999, 40, 'Noise']}), ('Apparel', {'T-Shirt': [499, 100, 'H&M'], 'Jeans': [1199, 60, \"Levi's\"], 'Jacket': [2499, 25, 'Puma']})])"
      ]
     },
     "execution_count": 26,
     "metadata": {},
     "output_type": "execute_result"
    }
   ],
   "source": [
    "##How do you retrieve both keys and values? (Use .items())\n",
    "retail_inventory.items()"
   ]
  },
  {
   "cell_type": "code",
   "execution_count": 32,
   "id": "51c21b48-0347-4ea7-8a6b-020f06e4a257",
   "metadata": {},
   "outputs": [],
   "source": [
    "##How do you add or update a value for a key? (Use .update({key: value}))\n",
    "retail_inventory.update({\"Makeup Items\":[\"power\",50,20,'ponds']})"
   ]
  },
  {
   "cell_type": "code",
   "execution_count": null,
   "id": "e8b4057e-1517-4429-b0a2-146a8015fb6d",
   "metadata": {},
   "outputs": [],
   "source": []
  },
  {
   "cell_type": "code",
   "execution_count": 33,
   "id": "df2370cb-58ed-4cd3-82c6-c5f5b492cfbe",
   "metadata": {},
   "outputs": [
    {
     "data": {
      "text/plain": [
       "{'Electronics': {'Laptop': [55000, 30, 'Dell'],\n",
       "  'Mobile': [25000, 50, 'Samsung'],\n",
       "  'Tablet': [18000, 20, 'Lenova'],\n",
       "  'Smart Watch': [7999, 40, 'Noise']},\n",
       " 'Apparel': {'T-Shirt': [499, 100, 'H&M'],\n",
       "  'Jeans': [1199, 60, \"Levi's\"],\n",
       "  'Jacket': [2499, 25, 'Puma']},\n",
       " 'Makeup Items': ['power', 50, 20, 'ponds']}"
      ]
     },
     "execution_count": 33,
     "metadata": {},
     "output_type": "execute_result"
    }
   ],
   "source": [
    "retail_inventory"
   ]
  },
  {
   "cell_type": "code",
   "execution_count": 34,
   "id": "e113bb52-dc03-4228-9abb-6a051b5db5e0",
   "metadata": {},
   "outputs": [],
   "source": [
    "##How do you remove all key-value pairs from a dictionary? (Use .clear())\n",
    "retail_inventory.clear()"
   ]
  },
  {
   "cell_type": "code",
   "execution_count": 35,
   "id": "d96e9e73-b951-476a-bc26-cec4d9eef010",
   "metadata": {},
   "outputs": [
    {
     "data": {
      "text/plain": [
       "{}"
      ]
     },
     "execution_count": 35,
     "metadata": {},
     "output_type": "execute_result"
    }
   ],
   "source": [
    "retail_inventory"
   ]
  },
  {
   "cell_type": "raw",
   "id": "dd0349ac-7010-4497-b4c2-2e305cc0fddd",
   "metadata": {},
   "source": [
    "##How do you create an empty dictionary? (Use {} or dict())\n",
    "retail_inventory=dict()"
   ]
  },
  {
   "cell_type": "code",
   "execution_count": 47,
   "id": "25e08f57-d614-498b-9049-5593caae6f08",
   "metadata": {},
   "outputs": [
    {
     "ename": "AttributeError",
     "evalue": "'dict' object has no attribute 'dict' and no __dict__ for setting new attributes",
     "output_type": "error",
     "traceback": [
      "\u001b[31m---------------------------------------------------------------------------\u001b[39m",
      "\u001b[31mAttributeError\u001b[39m                            Traceback (most recent call last)",
      "\u001b[36mCell\u001b[39m\u001b[36m \u001b[39m\u001b[32mIn[47]\u001b[39m\u001b[32m, line 1\u001b[39m\n\u001b[32m----> \u001b[39m\u001b[32m1\u001b[39m \u001b[43mretail_inventory\u001b[49m\u001b[43m.\u001b[49m\u001b[43mdict\u001b[49m={}\n",
      "\u001b[31mAttributeError\u001b[39m: 'dict' object has no attribute 'dict' and no __dict__ for setting new attributes"
     ]
    }
   ],
   "source": [
    "retail_inventory.dict={}"
   ]
  },
  {
   "cell_type": "code",
   "execution_count": 45,
   "id": "28b79911-ed49-44aa-8f08-d4b7a20a676e",
   "metadata": {},
   "outputs": [
    {
     "data": {
      "text/plain": [
       "{}"
      ]
     },
     "execution_count": 45,
     "metadata": {},
     "output_type": "execute_result"
    }
   ],
   "source": [
    "retail_inventory"
   ]
  },
  {
   "cell_type": "raw",
   "id": "49060a71-a8ed-4787-8fa7-deb0e730c28a",
   "metadata": {},
   "source": []
  },
  {
   "cell_type": "code",
   "execution_count": null,
   "id": "26b3be7f-fb09-4e16-9779-ea7c304d71bc",
   "metadata": {},
   "outputs": [],
   "source": []
  },
  {
   "cell_type": "code",
   "execution_count": 43,
   "id": "da95fa2c-f305-429d-bc2b-2bdf59f25b57",
   "metadata": {},
   "outputs": [
    {
     "ename": "SyntaxError",
     "evalue": "invalid syntax (3509715860.py, line 1)",
     "output_type": "error",
     "traceback": [
      "  \u001b[36mCell\u001b[39m\u001b[36m \u001b[39m\u001b[32mIn[43]\u001b[39m\u001b[32m, line 1\u001b[39m\n\u001b[31m    \u001b[39m\u001b[31mretail_inventory.use{}\u001b[39m\n                        ^\n\u001b[31mSyntaxError\u001b[39m\u001b[31m:\u001b[39m invalid syntax\n"
     ]
    }
   ],
   "source": [
    "retail_inventory.use{}"
   ]
  },
  {
   "cell_type": "code",
   "execution_count": 42,
   "id": "beb08a7b-6472-4bb7-bfdf-4995ade6df42",
   "metadata": {},
   "outputs": [
    {
     "ename": "KeyError",
     "evalue": "'Electronics'",
     "output_type": "error",
     "traceback": [
      "\u001b[31m---------------------------------------------------------------------------\u001b[39m",
      "\u001b[31mKeyError\u001b[39m                                  Traceback (most recent call last)",
      "\u001b[36mCell\u001b[39m\u001b[36m \u001b[39m\u001b[32mIn[42]\u001b[39m\u001b[32m, line 2\u001b[39m\n\u001b[32m      1\u001b[39m \u001b[38;5;66;03m##How do you copy a dictionary? (Use .copy())\u001b[39;00m\n\u001b[32m----> \u001b[39m\u001b[32m2\u001b[39m my_data=(\u001b[43mretail_inventory\u001b[49m\u001b[43m.\u001b[49m\u001b[43mcopy\u001b[49m\u001b[43m(\u001b[49m\u001b[43m)\u001b[49m\u001b[43m[\u001b[49m\u001b[33;43m'\u001b[39;49m\u001b[33;43mElectronics\u001b[39;49m\u001b[33;43m'\u001b[39;49m\u001b[43m]\u001b[49m)\n\u001b[32m      3\u001b[39m \u001b[38;5;28mprint\u001b[39m(my_data)\n",
      "\u001b[31mKeyError\u001b[39m: 'Electronics'"
     ]
    }
   ],
   "source": [
    "##How do you copy a dictionary? (Use .copy())\n",
    "my_data=retail_inventory.copy()['Electronics']\n",
    "print(my_data)"
   ]
  },
  {
   "cell_type": "code",
   "execution_count": 41,
   "id": "b0cf46c4-eb46-4798-8d16-db2d2a553038",
   "metadata": {},
   "outputs": [
    {
     "ename": "KeyError",
     "evalue": "'Electronics'",
     "output_type": "error",
     "traceback": [
      "\u001b[31m---------------------------------------------------------------------------\u001b[39m",
      "\u001b[31mKeyError\u001b[39m                                  Traceback (most recent call last)",
      "\u001b[36mCell\u001b[39m\u001b[36m \u001b[39m\u001b[32mIn[41]\u001b[39m\u001b[32m, line 1\u001b[39m\n\u001b[32m----> \u001b[39m\u001b[32m1\u001b[39m my_data=\u001b[43mretail_inventory\u001b[49m\u001b[43m.\u001b[49m\u001b[43mcopy\u001b[49m\u001b[43m(\u001b[49m\u001b[43m)\u001b[49m\u001b[43m[\u001b[49m\u001b[33;43m'\u001b[39;49m\u001b[33;43mElectronics\u001b[39;49m\u001b[33;43m'\u001b[39;49m\u001b[43m]\u001b[49m\n\u001b[32m      2\u001b[39m \u001b[38;5;28mprint\u001b[39m(my_data)\n",
      "\u001b[31mKeyError\u001b[39m: 'Electronics'"
     ]
    }
   ],
   "source": [
    "my_data=retail_inventory.copy()['Electronics']\n",
    "print(my_data)"
   ]
  },
  {
   "cell_type": "code",
   "execution_count": null,
   "id": "1f4b4e1b-9579-4b58-b0c6-5e81dcf6358f",
   "metadata": {},
   "outputs": [],
   "source": []
  },
  {
   "cell_type": "code",
   "execution_count": 48,
   "id": "f0eaef01-1c9e-4d75-a67f-8aa1c80c4323",
   "metadata": {},
   "outputs": [],
   "source": [
    "retail_inventory={\n",
    "    \"Electronics\":{\n",
    "        \"Laptop\":[55000,30,\"Dell\"],\n",
    "        \"Mobile\":[25000,50,\"Samsung\"],\n",
    "        \"Tablet\":[18000,20,\"Lenova\"],\n",
    "        \"Smart Watch\":[7999,40,\"Noise\"]\n",
    "    },\n",
    "    \"Apparel\":{\n",
    "        \"T-Shirt\":[499,100,\"H&M\"],\n",
    "        \"Jeans\"  :[1199,60,\"Levi's\"],\n",
    "        \"Jacket\" :[2499,25,\"Puma\"]\n",
    "    },\n",
    "    \"Home Appliances\":{\n",
    "        \"Microwave\":[8500,15,\"LG\"],\n",
    "        \"Vaccum Cleaner\":[7000,10,\"Philips\"],\n",
    "        \"Refrigeretor\":[30000,8,\"Samsung\"]\n",
    "    }\n",
    "}"
   ]
  },
  {
   "cell_type": "code",
   "execution_count": 49,
   "id": "99b34fb2-efe9-4ba9-9420-51e05156c368",
   "metadata": {},
   "outputs": [
    {
     "data": {
      "text/plain": [
       "{'Electronics': {'Laptop': [55000, 30, 'Dell'],\n",
       "  'Mobile': [25000, 50, 'Samsung'],\n",
       "  'Tablet': [18000, 20, 'Lenova'],\n",
       "  'Smart Watch': [7999, 40, 'Noise']},\n",
       " 'Apparel': {'T-Shirt': [499, 100, 'H&M'],\n",
       "  'Jeans': [1199, 60, \"Levi's\"],\n",
       "  'Jacket': [2499, 25, 'Puma']},\n",
       " 'Home Appliances': {'Microwave': [8500, 15, 'LG'],\n",
       "  'Vaccum Cleaner': [7000, 10, 'Philips'],\n",
       "  'Refrigeretor': [30000, 8, 'Samsung']}}"
      ]
     },
     "execution_count": 49,
     "metadata": {},
     "output_type": "execute_result"
    }
   ],
   "source": [
    "retail_inventory"
   ]
  },
  {
   "cell_type": "code",
   "execution_count": 50,
   "id": "7cc2755f-5259-4a32-98f9-da72e8c6dad7",
   "metadata": {},
   "outputs": [],
   "source": [
    "##newdata=retail_inventory.setdefault('Electronics',\"Android \")\n",
    "newdata=retail_inventory.setdefault('electronics',\"Antriod\")"
   ]
  },
  {
   "cell_type": "code",
   "execution_count": 52,
   "id": "af2dad02-1fc1-4b3a-9a1d-77991898214b",
   "metadata": {},
   "outputs": [
    {
     "data": {
      "text/plain": [
       "'Antriod'"
      ]
     },
     "execution_count": 52,
     "metadata": {},
     "output_type": "execute_result"
    }
   ],
   "source": [
    "newdata"
   ]
  },
  {
   "cell_type": "raw",
   "id": "fc007c30-4548-461a-8841-2d286dbc3b65",
   "metadata": {},
   "source": [
    "newdata"
   ]
  },
  {
   "cell_type": "code",
   "execution_count": null,
   "id": "9160c470-e4b5-438a-a886-5ce5a32cd235",
   "metadata": {},
   "outputs": [],
   "source": [
    "\n",
    "##Use .update() to merge two dictionaries.\n",
    "\n",
    "newdata1={'beauty products':'powder',\n",
    "          'healthcare':'cosmetics',\n",
    "          'sports':'cricket'}"
   ]
  },
  {
   "cell_type": "code",
   "execution_count": 60,
   "id": "5573506f-4a29-4031-9eb0-a52533d033e7",
   "metadata": {},
   "outputs": [
    {
     "ename": "ValueError",
     "evalue": "dictionary update sequence element #0 has length 1; 2 is required",
     "output_type": "error",
     "traceback": [
      "\u001b[31m---------------------------------------------------------------------------\u001b[39m",
      "\u001b[31mValueError\u001b[39m                                Traceback (most recent call last)",
      "\u001b[36mCell\u001b[39m\u001b[36m \u001b[39m\u001b[32mIn[60]\u001b[39m\u001b[32m, line 1\u001b[39m\n\u001b[32m----> \u001b[39m\u001b[32m1\u001b[39m x=(\u001b[43mretail_inventory\u001b[49m\u001b[43m.\u001b[49m\u001b[43mupdate\u001b[49m\u001b[43m(\u001b[49m\u001b[43mnewdata\u001b[49m\u001b[43m)\u001b[49m)\n",
      "\u001b[31mValueError\u001b[39m: dictionary update sequence element #0 has length 1; 2 is required"
     ]
    }
   ],
   "source": [
    "x=(retail_inventory.update(newdata))"
   ]
  },
  {
   "cell_type": "code",
   "execution_count": 61,
   "id": "9d839e19-61bf-4182-ab1d-1a630a782419",
   "metadata": {},
   "outputs": [
    {
     "ename": "NameError",
     "evalue": "name 'newdata1' is not defined",
     "output_type": "error",
     "traceback": [
      "\u001b[31m---------------------------------------------------------------------------\u001b[39m",
      "\u001b[31mNameError\u001b[39m                                 Traceback (most recent call last)",
      "\u001b[36mCell\u001b[39m\u001b[36m \u001b[39m\u001b[32mIn[61]\u001b[39m\u001b[32m, line 1\u001b[39m\n\u001b[32m----> \u001b[39m\u001b[32m1\u001b[39m x=(retail_inventory.update(\u001b[43mnewdata1\u001b[49m))\n",
      "\u001b[31mNameError\u001b[39m: name 'newdata1' is not defined"
     ]
    }
   ],
   "source": [
    "x=(retail_inventory.update(newdata1))"
   ]
  },
  {
   "cell_type": "code",
   "execution_count": null,
   "id": "a682166f-7059-4245-946e-8a2460848f85",
   "metadata": {},
   "outputs": [],
   "source": []
  },
  {
   "cell_type": "code",
   "execution_count": null,
   "id": "b331ef86-4832-413f-b46c-74d3f398703c",
   "metadata": {},
   "outputs": [],
   "source": []
  },
  {
   "cell_type": "code",
   "execution_count": null,
   "id": "41f15336-5f06-4da5-8902-e0ed83b5eb89",
   "metadata": {},
   "outputs": [],
   "source": []
  },
  {
   "cell_type": "code",
   "execution_count": null,
   "id": "3da1ce95-cc00-458b-aa61-14fbc38b8ab8",
   "metadata": {},
   "outputs": [],
   "source": []
  },
  {
   "cell_type": "code",
   "execution_count": null,
   "id": "1512d74f-2b4e-4ea8-832b-60ce606cbd25",
   "metadata": {},
   "outputs": [],
   "source": []
  }
 ],
 "metadata": {
  "kernelspec": {
   "display_name": "Python 3 (ipykernel)",
   "language": "python",
   "name": "python3"
  },
  "language_info": {
   "codemirror_mode": {
    "name": "ipython",
    "version": 3
   },
   "file_extension": ".py",
   "mimetype": "text/x-python",
   "name": "python",
   "nbconvert_exporter": "python",
   "pygments_lexer": "ipython3",
   "version": "3.13.2"
  }
 },
 "nbformat": 4,
 "nbformat_minor": 5
}
